{
 "cells": [
  {
   "cell_type": "code",
   "execution_count": 1,
   "metadata": {},
   "outputs": [],
   "source": [
    "import osmnx as ox\n",
    "import pandas as pd\n",
    "import folium\n",
    "import matplotlib\n",
    "import numpy as np"
   ]
  },
  {
   "cell_type": "markdown",
   "metadata": {},
   "source": [
    "## Sports Fields, Parks, and Schools"
   ]
  },
  {
   "cell_type": "code",
   "execution_count": 2,
   "metadata": {},
   "outputs": [],
   "source": [
    "place = \"Missoula County, Montana\"\n",
    "tags = {\"leisure\":[\"pitch\", \"park\", \"sports_centre\"], \n",
    "        'building':'school', \n",
    "        'amenity':'school'}\n",
    "mso_features_gdf = ox.features.features_from_place(place, tags)"
   ]
  },
  {
   "cell_type": "markdown",
   "metadata": {},
   "source": [
    "the result is a GeoDataFrame\n",
    "- WGS84 crs"
   ]
  },
  {
   "cell_type": "code",
   "execution_count": 3,
   "metadata": {},
   "outputs": [
    {
     "name": "stdout",
     "output_type": "stream",
     "text": [
      "(519, 62)\n",
      "<class 'geopandas.geodataframe.GeoDataFrame'>\n",
      "epsg:4326\n"
     ]
    }
   ],
   "source": [
    "print(mso_features_gdf.shape)\n",
    "print(type(mso_features_gdf))\n",
    "print(mso_features_gdf.crs)"
   ]
  },
  {
   "cell_type": "code",
   "execution_count": 4,
   "metadata": {},
   "outputs": [
    {
     "data": {
      "text/html": [
       "<div>\n",
       "<style scoped>\n",
       "    .dataframe tbody tr th:only-of-type {\n",
       "        vertical-align: middle;\n",
       "    }\n",
       "\n",
       "    .dataframe tbody tr th {\n",
       "        vertical-align: top;\n",
       "    }\n",
       "\n",
       "    .dataframe thead th {\n",
       "        text-align: right;\n",
       "    }\n",
       "</style>\n",
       "<table border=\"1\" class=\"dataframe\">\n",
       "  <thead>\n",
       "    <tr style=\"text-align: right;\">\n",
       "      <th></th>\n",
       "      <th></th>\n",
       "      <th>geometry</th>\n",
       "      <th>leisure</th>\n",
       "      <th>name</th>\n",
       "      <th>sport</th>\n",
       "      <th>access</th>\n",
       "      <th>manufacturer</th>\n",
       "      <th>surface</th>\n",
       "      <th>amenity</th>\n",
       "      <th>ele</th>\n",
       "      <th>gnis:feature_id</th>\n",
       "      <th>...</th>\n",
       "      <th>ref</th>\n",
       "      <th>courts</th>\n",
       "      <th>park</th>\n",
       "      <th>not:brand:wikidata</th>\n",
       "      <th>tourism</th>\n",
       "      <th>type</th>\n",
       "      <th>addr:country</th>\n",
       "      <th>isced:level</th>\n",
       "      <th>landuse</th>\n",
       "      <th>nohousenumber</th>\n",
       "    </tr>\n",
       "    <tr>\n",
       "      <th>element</th>\n",
       "      <th>id</th>\n",
       "      <th></th>\n",
       "      <th></th>\n",
       "      <th></th>\n",
       "      <th></th>\n",
       "      <th></th>\n",
       "      <th></th>\n",
       "      <th></th>\n",
       "      <th></th>\n",
       "      <th></th>\n",
       "      <th></th>\n",
       "      <th></th>\n",
       "      <th></th>\n",
       "      <th></th>\n",
       "      <th></th>\n",
       "      <th></th>\n",
       "      <th></th>\n",
       "      <th></th>\n",
       "      <th></th>\n",
       "      <th></th>\n",
       "      <th></th>\n",
       "      <th></th>\n",
       "    </tr>\n",
       "  </thead>\n",
       "  <tbody>\n",
       "    <tr>\n",
       "      <th rowspan=\"5\" valign=\"top\">node</th>\n",
       "      <th>357933624</th>\n",
       "      <td>POINT (-113.99518 46.84717)</td>\n",
       "      <td>park</td>\n",
       "      <td>Campbell Park</td>\n",
       "      <td>NaN</td>\n",
       "      <td>NaN</td>\n",
       "      <td>NaN</td>\n",
       "      <td>NaN</td>\n",
       "      <td>NaN</td>\n",
       "      <td>976</td>\n",
       "      <td>780870</td>\n",
       "      <td>...</td>\n",
       "      <td>NaN</td>\n",
       "      <td>NaN</td>\n",
       "      <td>NaN</td>\n",
       "      <td>NaN</td>\n",
       "      <td>NaN</td>\n",
       "      <td>NaN</td>\n",
       "      <td>NaN</td>\n",
       "      <td>NaN</td>\n",
       "      <td>NaN</td>\n",
       "      <td>NaN</td>\n",
       "    </tr>\n",
       "    <tr>\n",
       "      <th>357936716</th>\n",
       "      <td>POINT (-113.98729 46.86618)</td>\n",
       "      <td>park</td>\n",
       "      <td>Madison Park</td>\n",
       "      <td>NaN</td>\n",
       "      <td>NaN</td>\n",
       "      <td>NaN</td>\n",
       "      <td>NaN</td>\n",
       "      <td>NaN</td>\n",
       "      <td>977</td>\n",
       "      <td>786768</td>\n",
       "      <td>...</td>\n",
       "      <td>NaN</td>\n",
       "      <td>NaN</td>\n",
       "      <td>NaN</td>\n",
       "      <td>NaN</td>\n",
       "      <td>NaN</td>\n",
       "      <td>NaN</td>\n",
       "      <td>NaN</td>\n",
       "      <td>NaN</td>\n",
       "      <td>NaN</td>\n",
       "      <td>NaN</td>\n",
       "    </tr>\n",
       "    <tr>\n",
       "      <th>357936751</th>\n",
       "      <td>POINT (-113.82621 46.89159)</td>\n",
       "      <td>park</td>\n",
       "      <td>Marco Flat Picnic Area</td>\n",
       "      <td>NaN</td>\n",
       "      <td>NaN</td>\n",
       "      <td>NaN</td>\n",
       "      <td>NaN</td>\n",
       "      <td>NaN</td>\n",
       "      <td>1020</td>\n",
       "      <td>786833</td>\n",
       "      <td>...</td>\n",
       "      <td>NaN</td>\n",
       "      <td>NaN</td>\n",
       "      <td>NaN</td>\n",
       "      <td>NaN</td>\n",
       "      <td>NaN</td>\n",
       "      <td>NaN</td>\n",
       "      <td>NaN</td>\n",
       "      <td>NaN</td>\n",
       "      <td>NaN</td>\n",
       "      <td>NaN</td>\n",
       "    </tr>\n",
       "    <tr>\n",
       "      <th>357937671</th>\n",
       "      <td>POINT (-113.92455 46.82687)</td>\n",
       "      <td>park</td>\n",
       "      <td>Pattee Canyon Picnic Area</td>\n",
       "      <td>NaN</td>\n",
       "      <td>NaN</td>\n",
       "      <td>NaN</td>\n",
       "      <td>NaN</td>\n",
       "      <td>NaN</td>\n",
       "      <td>1259</td>\n",
       "      <td>788695</td>\n",
       "      <td>...</td>\n",
       "      <td>NaN</td>\n",
       "      <td>NaN</td>\n",
       "      <td>NaN</td>\n",
       "      <td>NaN</td>\n",
       "      <td>NaN</td>\n",
       "      <td>NaN</td>\n",
       "      <td>NaN</td>\n",
       "      <td>NaN</td>\n",
       "      <td>NaN</td>\n",
       "      <td>NaN</td>\n",
       "    </tr>\n",
       "    <tr>\n",
       "      <th>357938771</th>\n",
       "      <td>POINT (-113.99872 46.87507)</td>\n",
       "      <td>NaN</td>\n",
       "      <td>Saint Josephs Elementary School</td>\n",
       "      <td>NaN</td>\n",
       "      <td>NaN</td>\n",
       "      <td>NaN</td>\n",
       "      <td>NaN</td>\n",
       "      <td>school</td>\n",
       "      <td>977</td>\n",
       "      <td>789931</td>\n",
       "      <td>...</td>\n",
       "      <td>NaN</td>\n",
       "      <td>NaN</td>\n",
       "      <td>NaN</td>\n",
       "      <td>NaN</td>\n",
       "      <td>NaN</td>\n",
       "      <td>NaN</td>\n",
       "      <td>NaN</td>\n",
       "      <td>NaN</td>\n",
       "      <td>NaN</td>\n",
       "      <td>NaN</td>\n",
       "    </tr>\n",
       "  </tbody>\n",
       "</table>\n",
       "<p>5 rows × 62 columns</p>\n",
       "</div>"
      ],
      "text/plain": [
       "                                      geometry leisure  \\\n",
       "element id                                               \n",
       "node    357933624  POINT (-113.99518 46.84717)    park   \n",
       "        357936716  POINT (-113.98729 46.86618)    park   \n",
       "        357936751  POINT (-113.82621 46.89159)    park   \n",
       "        357937671  POINT (-113.92455 46.82687)    park   \n",
       "        357938771  POINT (-113.99872 46.87507)     NaN   \n",
       "\n",
       "                                              name sport access manufacturer  \\\n",
       "element id                                                                     \n",
       "node    357933624                    Campbell Park   NaN    NaN          NaN   \n",
       "        357936716                     Madison Park   NaN    NaN          NaN   \n",
       "        357936751           Marco Flat Picnic Area   NaN    NaN          NaN   \n",
       "        357937671        Pattee Canyon Picnic Area   NaN    NaN          NaN   \n",
       "        357938771  Saint Josephs Elementary School   NaN    NaN          NaN   \n",
       "\n",
       "                  surface amenity   ele gnis:feature_id  ...  ref courts park  \\\n",
       "element id                                               ...                    \n",
       "node    357933624     NaN     NaN   976          780870  ...  NaN    NaN  NaN   \n",
       "        357936716     NaN     NaN   977          786768  ...  NaN    NaN  NaN   \n",
       "        357936751     NaN     NaN  1020          786833  ...  NaN    NaN  NaN   \n",
       "        357937671     NaN     NaN  1259          788695  ...  NaN    NaN  NaN   \n",
       "        357938771     NaN  school   977          789931  ...  NaN    NaN  NaN   \n",
       "\n",
       "                  not:brand:wikidata tourism type addr:country isced:level  \\\n",
       "element id                                                                   \n",
       "node    357933624                NaN     NaN  NaN          NaN         NaN   \n",
       "        357936716                NaN     NaN  NaN          NaN         NaN   \n",
       "        357936751                NaN     NaN  NaN          NaN         NaN   \n",
       "        357937671                NaN     NaN  NaN          NaN         NaN   \n",
       "        357938771                NaN     NaN  NaN          NaN         NaN   \n",
       "\n",
       "                  landuse nohousenumber  \n",
       "element id                               \n",
       "node    357933624     NaN           NaN  \n",
       "        357936716     NaN           NaN  \n",
       "        357936751     NaN           NaN  \n",
       "        357937671     NaN           NaN  \n",
       "        357938771     NaN           NaN  \n",
       "\n",
       "[5 rows x 62 columns]"
      ]
     },
     "execution_count": 4,
     "metadata": {},
     "output_type": "execute_result"
    }
   ],
   "source": [
    "mso_features_gdf.head()"
   ]
  },
  {
   "cell_type": "markdown",
   "metadata": {},
   "source": [
    "## Separate features"
   ]
  },
  {
   "cell_type": "code",
   "execution_count": 7,
   "metadata": {},
   "outputs": [
    {
     "data": {
      "text/plain": [
       "leisure\n",
       "pitch            264\n",
       "park             164\n",
       "sports_centre     10\n",
       "Name: count, dtype: int64"
      ]
     },
     "execution_count": 7,
     "metadata": {},
     "output_type": "execute_result"
    }
   ],
   "source": [
    "mso_features_gdf['leisure'].value_counts()"
   ]
  },
  {
   "cell_type": "markdown",
   "metadata": {},
   "source": [
    "### For parks, pitches, and sports centers (count 264):\n",
    "- 'park', 'pitch', or 'sports_centre' in ['leisure'] (case-insensitive)"
   ]
  },
  {
   "cell_type": "code",
   "execution_count": 3,
   "metadata": {},
   "outputs": [],
   "source": [
    "mso_parks = mso_features_gdf[mso_features_gdf['leisure'] == 'park']\n",
    "mso_pitches = mso_features_gdf[mso_features_gdf['leisure'] == 'pitch']\n",
    "mso_sports_centres = mso_features_gdf[mso_features_gdf['leisure'] == 'sports_centre']"
   ]
  },
  {
   "cell_type": "markdown",
   "metadata": {},
   "source": [
    "### For schools (count 81)\n",
    "- 'school' in [\"name\"], [\"building\"], or [\"amenity\"] (case-sensitive)"
   ]
  },
  {
   "cell_type": "code",
   "execution_count": 4,
   "metadata": {},
   "outputs": [],
   "source": [
    "mso_schools = mso_features_gdf[mso_features_gdf.apply(lambda x: True if \"school\" in [str(x['amenity']).lower(), str(x['building']).lower(), str(x['name']).lower()] else False, axis=1)]"
   ]
  },
  {
   "cell_type": "markdown",
   "metadata": {},
   "source": [
    "### Save to disk (for analysis in qgis)\n",
    "- use EPSG 2256 Montana State Plane (ft)\n",
    "- https://epsg.io/2256"
   ]
  },
  {
   "cell_type": "code",
   "execution_count": 8,
   "metadata": {},
   "outputs": [
    {
     "name": "stderr",
     "output_type": "stream",
     "text": [
      "/home/vince/miniconda3/envs/ox/lib/python3.9/site-packages/pyogrio/raw.py:723: RuntimeWarning: The filename extension should be 'gpkg' instead of 'gpk' to conform to the GPKG specification.\n",
      "  ogr_write(\n"
     ]
    }
   ],
   "source": [
    "for gdf_obj, layer_name in [(mso_parks, \"parks\"), (mso_pitches, \"pitches\"), \n",
    "                            (mso_sports_centres, \"sports_centres\"), (mso_schools, \"schools\")]:\n",
    "\n",
    "    # convert to a feet-based crs \n",
    "    gdf_obj.to_crs(epsg=2256, inplace=True)\n",
    "\n",
    "    # save as layer in a GeoPackage\n",
    "    gdf_obj.to_file(\"mso_features.gpk\", layer=layer_name, driver=\"GPKG\")"
   ]
  },
  {
   "cell_type": "markdown",
   "metadata": {},
   "source": [
    "## Parking areas"
   ]
  },
  {
   "cell_type": "code",
   "execution_count": 87,
   "metadata": {},
   "outputs": [
    {
     "data": {
      "text/plain": [
       "(2705, 34)"
      ]
     },
     "execution_count": 87,
     "metadata": {},
     "output_type": "execute_result"
    }
   ],
   "source": [
    "place = \"Missoula, Montana\"\n",
    "tags = {\"parking\":True, 'amenity':'parking'}\n",
    "parking_gdf = ox.features.features_from_place(place, tags)\n",
    "parking_gdf.shape"
   ]
  },
  {
   "cell_type": "code",
   "execution_count": 137,
   "metadata": {},
   "outputs": [
    {
     "data": {
      "text/plain": [
       "parking\n",
       "surface         112\n",
       "multi-storey      5\n",
       "street_side       2\n",
       "underground       1\n",
       "Name: count, dtype: int64"
      ]
     },
     "execution_count": 137,
     "metadata": {},
     "output_type": "execute_result"
    }
   ],
   "source": [
    "parking_gdf['parking'].value_counts()"
   ]
  },
  {
   "cell_type": "code",
   "execution_count": 167,
   "metadata": {},
   "outputs": [
    {
     "data": {
      "text/plain": [
       "geometry\n",
       "POLYGON          2703\n",
       "POINT               1\n",
       "MULTIPOLYGON        1\n",
       "Name: count, dtype: int64"
      ]
     },
     "execution_count": 167,
     "metadata": {},
     "output_type": "execute_result"
    }
   ],
   "source": [
    "# almost every instance is a polygon\n",
    "\n",
    "parking_gdf['geometry'].apply(lambda x: str(x).split(\"(\")[0]).value_counts()"
   ]
  },
  {
   "cell_type": "markdown",
   "metadata": {},
   "source": [
    "## Plot interactively with folium"
   ]
  },
  {
   "cell_type": "code",
   "execution_count": null,
   "metadata": {},
   "outputs": [],
   "source": [
    "from branca.element import Template, MacroElement\n",
    "\n",
    "m = folium.Map(location=[sports_gdf.geometry.centroid.y.mean(), sports_gdf.geometry.centroid.x.mean()], zoom_start=15, tiles=None)\n",
    "\n",
    "# Add two (2) basemap layers\n",
    "folium.TileLayer(\n",
    "    tiles='https://server.arcgisonline.com/ArcGIS/rest/services/World_Imagery/MapServer/tile/{z}/{y}/{x}',\n",
    "    attr='Esri',\n",
    "    name='ESRI Aerial Imagery',\n",
    "    overlay=False,\n",
    "    control=True\n",
    ").add_to(m)\n",
    "\n",
    "folium.TileLayer('OpenStreetMap', name = \"OSM Basemap\").add_to(m)\n",
    "\n",
    "# assign colors dynamically\n",
    "types = [e for e in sports_gdf['leisure'].unique() if pd.notna(e)] + [\"school\", \"parking\"]  # skip nan\\\n",
    "colors = matplotlib.cm.get_cmap('viridis', len(types))\n",
    "color_dict = {t:matplotlib.colors.rgb2hex(colors(i)) for i, t in enumerate(types)}\n",
    "\n",
    "# Create feature groups for each type and add to map\n",
    "feature_groups = {}\n",
    "for t in types:\n",
    "    feature_groups[t] = folium.FeatureGroup(name=t).add_to(m)\n",
    "\n",
    "# Function to add polygons to the map\n",
    "def add_polygons(gdf, map_object):\n",
    "    for _, row in gdf.iterrows():\n",
    "        \n",
    "        # assign type and color\n",
    "        if 'leisure' in row.keys() and pd.notna(row['leisure']):\n",
    "            item_type = row['leisure']\n",
    "            curr_color = color_dict[row['leisure']]\n",
    "        elif pd.notna(row['amenity']) and row['amenity'] == 'parking':\n",
    "            item_type='parking'\n",
    "            curr_color = color_dict['parking']\n",
    "        else:\n",
    "            item_type = 'school'\n",
    "            curr_color = color_dict['school']\n",
    "\n",
    "        if pd.notna(row['name']):\n",
    "            popup_name = row['name']\n",
    "        else:\n",
    "            popup_name = \"\"\n",
    "        \n",
    "        # python's late binding behavior with lambdas!\n",
    "        sim_geo = folium.GeoJson(row.geometry, \n",
    "                                style_function=lambda x, color=curr_color: {'fillColor': color, 'color': color}, control=False)\n",
    "        \n",
    "        # Check for non-null and convert name to string\n",
    "        #if pd.notna(row['name']):\n",
    "        #    folium.Popup(str(row['name'])).add_to(sim_geo)\n",
    "\n",
    "        folium.Popup(f\"<strong>{item_type.capitalize()}</strong> \\n\\n {popup_name.capitalize()}\").add_to(sim_geo)\n",
    "\n",
    "        sim_geo.add_to(feature_groups[item_type])\n",
    "\n",
    "# Function to add points to the map\n",
    "# these are all schools\n",
    "def add_points(gdf, map_object):\n",
    "\n",
    "    for _, row in gdf.iterrows():\n",
    "\n",
    "        # assign type and color\n",
    "        if 'leisure' in row.keys() and pd.notna(row['leisure']):\n",
    "            item_type = row['leisure']\n",
    "            curr_color = color_dict[row['leisure']]\n",
    "        else:\n",
    "            item_type = 'school'\n",
    "            curr_color = color_dict['school']\n",
    "\n",
    "        if pd.notna(row['name']):\n",
    "            popup_name = row['name']\n",
    "        else:\n",
    "            popup_name = \"\"\n",
    "\n",
    "        folium.CircleMarker(\n",
    "            [row.geometry.y, row.geometry.x],\n",
    "            popup=f\"<strong>{item_type.capitalize()}</strong> \\n\\n {popup_name.capitalize()}\",  # Assuming you have a 'name' column for the popup\n",
    "            color=curr_color, \n",
    "            fill=True, \n",
    "            fill_color=curr_color,\n",
    "            fill_opacity=0.6,\n",
    "            radius=4,\n",
    "            control=False\n",
    "        ).add_to(feature_groups[item_type])\n",
    "\n",
    "# add the data to the map\n",
    "add_polygons(sports_gdf[sports_gdf.geometry.type == 'Polygon'], m)\n",
    "add_points(sports_gdf[sports_gdf.geometry.type == 'Point'], m)\n",
    "add_polygons(parking_gdf[parking_gdf.geometry.type == 'Polygon'], m)\n",
    "\n",
    "\n",
    "# add a legend\n",
    "template = \"\"\"\n",
    "{% macro html(this, kwargs) %}\n",
    "<div style=\"position: fixed; \n",
    "            bottom: 50px; left: 50px; width: 150px; height: auto; \n",
    "            border:2px solid grey; z-index:9999; font-size:14px;\n",
    "            background-color:white; padding: 5px;\">\n",
    "    <p><strong>Legend</strong></p>\n",
    "    {% for key, color in this.color_dict.items() %}\n",
    "    <p><span style=\"color: {{color}}\">&#11044;</span> {{key}}</p>\n",
    "    {% endfor %}\n",
    "</div>\n",
    "{% endmacro %}\n",
    "\"\"\"\n",
    "\n",
    "macro = MacroElement()\n",
    "macro._template = Template(template)\n",
    "macro.color_dict = color_dict\n",
    "m.get_root().add_child(macro)\n",
    "\n",
    "# add a title\n",
    "map_title = \"OpenStreetMap Parks and School Features (Missoula County, MT | 01-30-2024)\"\n",
    "title_html = f'<h1 style=\"position:absolute;z-index:100000;left:40vw\" ><strong>{map_title}</strong></h1>'\n",
    "m.get_root().html.add_child(folium.Element(title_html))\n",
    "\n",
    "folium.LayerControl(collapsed=False, position=\"bottomright\").add_to(m)\n",
    "\n",
    "# Display the map\n",
    "display(m)\n",
    "m.save(\"OSM_sports-schools-parking.html\")"
   ]
  },
  {
   "cell_type": "code",
   "execution_count": null,
   "metadata": {},
   "outputs": [],
   "source": [
    "# Create a map object centered on the mean of your data's coordinates\n",
    "m = folium.Map(location=[parking_gdf.geometry.centroid.y.mean(), parking_gdf.geometry.centroid.x.mean()], zoom_start=15)\n",
    "\n",
    "# Function to add polygons to the map\n",
    "def add_polygons(gdf, map_object):\n",
    "    for _, row in gdf.iterrows():\n",
    "        \n",
    "        # python's late binding behavior with lambdas!\n",
    "        sim_geo = folium.GeoJson(row.geometry, \n",
    "                                style_function=lambda x: {'fillColor': \"purple\", 'color': \"purple\"})\n",
    "        \n",
    "        # Check for non-null and convert name to string\n",
    "        if pd.notna(row['name']):\n",
    "            folium.Popup(str(row['name'])).add_to(sim_geo)\n",
    "        sim_geo.add_to(map_object)\n",
    "\n",
    "# Function to add points to the map\n",
    "def add_points(gdf, map_object):\n",
    "    for _, row in gdf.iterrows():\n",
    "        # Assuming geometry is a point\n",
    "        folium.Marker(\n",
    "            [row.geometry.y, row.geometry.x],\n",
    "            popup=row['name'],  # Assuming you have a 'name' column for the popup\n",
    "            icon=folium.Icon(color='blue', icon='info-sign')\n",
    "        ).add_to(map_object)\n",
    "\n",
    "# add a title\n",
    "map_title = \"OpenStreetMap Parking Features (Missoula County, MT | 01-30-2024)\"\n",
    "title_html = f'<h1 style=\"position:absolute;z-index:100000;left:40vw\" ><strong>{map_title}</strong></h1>'\n",
    "m.get_root().html.add_child(folium.Element(title_html))\n",
    "\n",
    "# Call the function with polygons or points\n",
    "add_polygons(parking_gdf[parking_gdf.geometry.type == 'Polygon'], m)\n",
    "add_points(parking_gdf[parking_gdf.geometry.type == 'Point'], m)\n",
    "\n",
    "# Display the map\n",
    "display(m)\n",
    "m.save(\"osm_parking.html\")"
   ]
  },
  {
   "cell_type": "markdown",
   "metadata": {},
   "source": [
    "## Pitches on School Grounds"
   ]
  },
  {
   "cell_type": "markdown",
   "metadata": {},
   "source": [
    "1. Pitches on School Grounds"
   ]
  },
  {
   "cell_type": "code",
   "execution_count": 5,
   "metadata": {},
   "outputs": [
    {
     "name": "stderr",
     "output_type": "stream",
     "text": [
      "/home/vince/miniconda3/envs/ox/lib/python3.9/site-packages/geopandas/geodataframe.py:1819: SettingWithCopyWarning: \n",
      "A value is trying to be set on a copy of a slice from a DataFrame.\n",
      "Try using .loc[row_indexer,col_indexer] = value instead\n",
      "\n",
      "See the caveats in the documentation: https://pandas.pydata.org/pandas-docs/stable/user_guide/indexing.html#returning-a-view-versus-a-copy\n",
      "  super().__setitem__(key, value)\n",
      "/home/vince/miniconda3/envs/ox/lib/python3.9/site-packages/geopandas/geodataframe.py:1819: SettingWithCopyWarning: \n",
      "A value is trying to be set on a copy of a slice from a DataFrame.\n",
      "Try using .loc[row_indexer,col_indexer] = value instead\n",
      "\n",
      "See the caveats in the documentation: https://pandas.pydata.org/pandas-docs/stable/user_guide/indexing.html#returning-a-view-versus-a-copy\n",
      "  super().__setitem__(key, value)\n",
      "/tmp/ipykernel_196302/3898312318.py:11: FutureWarning: A value is trying to be set on a copy of a DataFrame or Series through chained assignment using an inplace method.\n",
      "The behavior will change in pandas 3.0. This inplace method will never work because the intermediate object on which we are setting values always behaves as a copy.\n",
      "\n",
      "For example, when doing 'df[col].method(value, inplace=True)', try using 'df.method({col: value}, inplace=True)' or df[col] = df[col].method(value) instead, to perform the operation inplace on the original object.\n",
      "\n",
      "\n",
      "  mso_pitches['school_intersects_Names'].replace(\"\", np.nan, inplace=True)\n",
      "/tmp/ipykernel_196302/3898312318.py:11: SettingWithCopyWarning: \n",
      "A value is trying to be set on a copy of a slice from a DataFrame\n",
      "\n",
      "See the caveats in the documentation: https://pandas.pydata.org/pandas-docs/stable/user_guide/indexing.html#returning-a-view-versus-a-copy\n",
      "  mso_pitches['school_intersects_Names'].replace(\"\", np.nan, inplace=True)\n"
     ]
    }
   ],
   "source": [
    "joined = mso_pitches.sjoin(mso_schools, how='left', predicate='intersects')\n",
    "\n",
    "# flags for grouping pitches based on school proximity\n",
    "# account for intersecting with multiple schools\n",
    "school_intersect_series = joined.groupby(joined.index)['id_right'].apply(lambda x: x.notna().any())\n",
    "mso_pitches['school_intersects'] = mso_pitches.index.map(school_intersect_series)\n",
    "\n",
    "# list of intersecting school names (handles multiple matches with a concatenated list)\n",
    "school_name_intersects = joined.groupby(joined.index)['name_right'].apply(lambda x: \",\".join(map(str,x[x.notna()])))\n",
    "mso_pitches['school_intersects_Names'] = mso_pitches.index.map(school_name_intersects)\n",
    "mso_pitches['school_intersects_Names'].replace(\"\", np.nan, inplace=True) "
   ]
  },
  {
   "cell_type": "markdown",
   "metadata": {},
   "source": [
    "2. Pitches within 200 ft of school grounds"
   ]
  },
  {
   "cell_type": "code",
   "execution_count": 6,
   "metadata": {},
   "outputs": [
    {
     "name": "stderr",
     "output_type": "stream",
     "text": [
      "/home/vince/miniconda3/envs/ox/lib/python3.9/site-packages/geopandas/geodataframe.py:1819: SettingWithCopyWarning: \n",
      "A value is trying to be set on a copy of a slice from a DataFrame.\n",
      "Try using .loc[row_indexer,col_indexer] = value instead\n",
      "\n",
      "See the caveats in the documentation: https://pandas.pydata.org/pandas-docs/stable/user_guide/indexing.html#returning-a-view-versus-a-copy\n",
      "  super().__setitem__(key, value)\n",
      "/home/vince/miniconda3/envs/ox/lib/python3.9/site-packages/geopandas/geodataframe.py:1819: SettingWithCopyWarning: \n",
      "A value is trying to be set on a copy of a slice from a DataFrame.\n",
      "Try using .loc[row_indexer,col_indexer] = value instead\n",
      "\n",
      "See the caveats in the documentation: https://pandas.pydata.org/pandas-docs/stable/user_guide/indexing.html#returning-a-view-versus-a-copy\n",
      "  super().__setitem__(key, value)\n",
      "/tmp/ipykernel_196302/521317683.py:22: FutureWarning: A value is trying to be set on a copy of a DataFrame or Series through chained assignment using an inplace method.\n",
      "The behavior will change in pandas 3.0. This inplace method will never work because the intermediate object on which we are setting values always behaves as a copy.\n",
      "\n",
      "For example, when doing 'df[col].method(value, inplace=True)', try using 'df.method({col: value}, inplace=True)' or df[col] = df[col].method(value) instead, to perform the operation inplace on the original object.\n",
      "\n",
      "\n",
      "  mso_pitches['school_200ft_Names'].replace(\"\", np.nan, inplace=True)\n",
      "/tmp/ipykernel_196302/521317683.py:22: SettingWithCopyWarning: \n",
      "A value is trying to be set on a copy of a slice from a DataFrame\n",
      "\n",
      "See the caveats in the documentation: https://pandas.pydata.org/pandas-docs/stable/user_guide/indexing.html#returning-a-view-versus-a-copy\n",
      "  mso_pitches['school_200ft_Names'].replace(\"\", np.nan, inplace=True)\n",
      "/home/vince/miniconda3/envs/ox/lib/python3.9/site-packages/geopandas/geodataframe.py:1819: SettingWithCopyWarning: \n",
      "A value is trying to be set on a copy of a slice from a DataFrame.\n",
      "Try using .loc[row_indexer,col_indexer] = value instead\n",
      "\n",
      "See the caveats in the documentation: https://pandas.pydata.org/pandas-docs/stable/user_guide/indexing.html#returning-a-view-versus-a-copy\n",
      "  super().__setitem__(key, value)\n"
     ]
    }
   ],
   "source": [
    "# convert CRS\n",
    "mso_pitches_ft = mso_pitches.to_crs(epsg=2256)\n",
    "mso_schools_ft = mso_schools.to_crs(epsg=2256)\n",
    "\n",
    "buffer_distance = 200 \n",
    "\n",
    "# create buffer around pitches\n",
    "mso_pitches_buffered = mso_pitches_ft.copy()\n",
    "mso_pitches_buffered['geometry'] = mso_pitches_ft.geometry.buffer(buffer_distance)\n",
    "\n",
    "# performa spatial join\n",
    "joined = mso_pitches_buffered.sjoin(mso_schools_ft, how='left', predicate='intersects')\n",
    "\n",
    "# flags for grouping pitches based on school proximity\n",
    "# account for intersecting with multiple schools\n",
    "school_200ft_series = joined.groupby(joined.index)['id_right'].apply(lambda x: x.notna().any())\n",
    "mso_pitches['school_200ft'] = mso_pitches.index.map(school_200ft_series)\n",
    "\n",
    "# list of intersecting school names (handles multiple matches with a concatenated list)\n",
    "school_name_200ft = joined.groupby(joined.index)['name_right'].apply(lambda x: \",\".join(map(str,x[x.notna()])))\n",
    "mso_pitches['school_200ft_Names'] = mso_pitches.index.map(school_name_200ft)\n",
    "mso_pitches['school_200ft_Names'].replace(\"\", np.nan, inplace=True) \n",
    "\n",
    "# remove duplicate classification\n",
    "mso_pitches['school_200ft'] = mso_pitches.apply(lambda x: True if x['school_200ft'] and not x['school_intersects'] else False, axis =1)\n",
    "mso_pitches['school_200ft_Names'] = mso_pitches['school_200ft_Names'].mask(mso_pitches['school_200ft'] == False, np.nan)"
   ]
  },
  {
   "cell_type": "markdown",
   "metadata": {},
   "source": [
    "3. Pitches Not Associated with Schools"
   ]
  },
  {
   "cell_type": "code",
   "execution_count": 7,
   "metadata": {},
   "outputs": [
    {
     "name": "stderr",
     "output_type": "stream",
     "text": [
      "/home/vince/miniconda3/envs/ox/lib/python3.9/site-packages/geopandas/geodataframe.py:1819: SettingWithCopyWarning: \n",
      "A value is trying to be set on a copy of a slice from a DataFrame.\n",
      "Try using .loc[row_indexer,col_indexer] = value instead\n",
      "\n",
      "See the caveats in the documentation: https://pandas.pydata.org/pandas-docs/stable/user_guide/indexing.html#returning-a-view-versus-a-copy\n",
      "  super().__setitem__(key, value)\n"
     ]
    }
   ],
   "source": [
    "mso_pitches['school_NotAssociated'] = mso_pitches.apply(lambda x: True if x['school_intersects'] == False and x['school_200ft'] == False else False, axis = 1)"
   ]
  },
  {
   "cell_type": "code",
   "execution_count": 12,
   "metadata": {},
   "outputs": [],
   "source": [
    "def map_sports_to_schools(sports_gdf):\n",
    "    m = folium.Map(location=[sports_gdf.geometry.centroid.y.mean(), sports_gdf.geometry.centroid.x.mean()], zoom_start=15, \n",
    "                        tiles=None)\n",
    "\n",
    "    # Add two (2) basemap layers\n",
    "    folium.TileLayer(\n",
    "        tiles='https://server.arcgisonline.com/ArcGIS/rest/services/World_Imagery/MapServer/tile/{z}/{y}/{x}',\n",
    "        attr='Esri',\n",
    "        name='ESRI Aerial Imagery',\n",
    "        overlay=False,\n",
    "        control=True\n",
    "    ).add_to(m)\n",
    "\n",
    "    folium.TileLayer('OpenStreetMap', name = \"OSM Basemap\", overlay = False, control=True).add_to(m)\n",
    "\n",
    "    def popup_string(row):\n",
    "        # line format: \"<strong>{item_type.capitalize()}: </strong> {popup_name.capitalize()} \\n\"\n",
    "        result = \"\" \n",
    "        elements = []\n",
    "        # add type of pitch\n",
    "        elements.append((\"Name\", row['name'] if pd.notna(row['name']) else \"\"))\n",
    "        elements.append((\"Sport\", row['sport'] if pd.notna(row['sport']) else \"\")) \n",
    "        elements.append((\"School(s)\", row['school_intersects_Names'] if row['school_intersects'] else row['school_200ft_Names'] if row['school_200ft'] else \"\"))\n",
    "\n",
    "        for item in elements:\n",
    "            result += f\"<strong>{item[0]}: </strong> {item[1]} \\n\\n\"\n",
    "        \n",
    "        return result\n",
    "        \n",
    "    # Function to add polygons to the map\n",
    "    def add_polygons(gdf, map_object):\n",
    "        poly_group = folium.FeatureGroup(name=\"Polygons\", overlay=True, control=False).add_to(map_object)\n",
    "        for _, row in gdf.iterrows():\n",
    "\n",
    "            #is_school = True if pd.notna(row['id_right']) else False\n",
    "\n",
    "            # python's late binding behavior with lambdas!\n",
    "            sim_geo = folium.GeoJson(row.geometry, \n",
    "                                    style_function=lambda x, school_intersects=row['school_intersects'], school_200ft=row['school_200ft']: \n",
    "                                                                {'fillColor': \"green\", 'color': \"green\"} if school_intersects\n",
    "                                                                else {'fillColor': \"blue\", 'color': \"blue\"} if school_200ft \n",
    "                                                                else {'fillColor': \"red\", 'color': \"red\"})\n",
    "            \n",
    "            popup = popup_string(row)\n",
    "            folium.Popup(popup).add_to(sim_geo)\n",
    "            sim_geo.add_to(poly_group)\n",
    "\n",
    "    # Function to add points to the map\n",
    "    def add_points(gdf, map_object):\n",
    "        point_group = folium.FeatureGroup(name=\"Points\", overlay=True, control=False).add_to(map_object)\n",
    "        for _, row in gdf.iterrows():\n",
    "            #is_school = True if pd.notna(row['id_right']) else False\n",
    "\n",
    "            folium.Marker(\n",
    "                [row.geometry.y, row.geometry.x],\n",
    "                popup=popup_string(row),  # Assuming you have a 'name' column for the popup\n",
    "                icon=folium.Icon(color= 'green' if row['school_intersects'] else 'blue' if row['school_200ft'] else 'red', icon='info-sign')\n",
    "            ).add_to(point_group)\n",
    "\n",
    "    # add a title\n",
    "    map_title = \"Pitches Associated with School (Missoula County, MT | 01-30-2024)\"\n",
    "    title_html = f'<h1 style=\"position:absolute;z-index:100000;left:40vw\" ><strong>{map_title}</strong></h1>'\n",
    "    m.get_root().html.add_child(folium.Element(title_html))\n",
    "\n",
    "    # Call the function with polygons or points\n",
    "    add_polygons(sports_gdf[sports_gdf.geometry.type == 'Polygon'], m)\n",
    "    add_points(sports_gdf[sports_gdf.geometry.type == 'Point'], m)\n",
    "\n",
    "    # Add a legend to the map\n",
    "    legend_html = '''\n",
    "    <div style=\"\n",
    "        position: fixed; \n",
    "        bottom: 50px; left: 50px; width: 200px; height: 170px; \n",
    "        background-color: white; z-index: 1000; \n",
    "        font-size:14px; padding: 10px; \n",
    "        border-radius: 5px;\n",
    "        box-shadow: 2px 2px 5px rgba(0,0,0,0.3);\n",
    "    \">\n",
    "        <strong>Legend</strong><br>\n",
    "        <span style=\"display: inline-block; width: 12px; height: 12px; background-color: green; border-radius: 50%; margin-right: 5px;\"></span>\n",
    "        Pitches On School Premises<br>\n",
    "        <span style=\"display: inline-block; width: 12px; height: 12px; background-color: blue; border-radius: 50%; margin-right: 5px;\"></span>\n",
    "        Pitches Directly Adjacent to School<br>\n",
    "        <span style=\"display: inline-block; width: 12px; height: 12px; background-color: red; border-radius: 50%; margin-right: 5px;\"></span>\n",
    "        Pitches Not Associated With a School\n",
    "    </div>\n",
    "    '''\n",
    "\n",
    "    m.get_root().html.add_child(folium.Element(legend_html))\n",
    "\n",
    "    folium.LayerControl(collapsed=False, position=\"bottomright\",).add_to(m)\n",
    "\n",
    "    # Display the map\n",
    "    display(m)\n",
    "    \n",
    "    m.save(\"OSM_pitch-classifcation_1.html\")\n",
    "\n"
   ]
  },
  {
   "cell_type": "code",
   "execution_count": null,
   "metadata": {},
   "outputs": [],
   "source": [
    "map_sports_to_schools(mso_pitches)"
   ]
  },
  {
   "cell_type": "markdown",
   "metadata": {},
   "source": [
    "New Section \n"
   ]
  },
  {
   "cell_type": "code",
   "execution_count": null,
   "metadata": {},
   "outputs": [],
   "source": [
    "print(\"hello world\")"
   ]
  },
  {
   "cell_type": "code",
   "execution_count": null,
   "metadata": {},
   "outputs": [],
   "source": [
    "print(\"hello world, again!  \")"
   ]
  }
 ],
 "metadata": {
  "kernelspec": {
   "display_name": "ox",
   "language": "python",
   "name": "python3"
  },
  "language_info": {
   "codemirror_mode": {
    "name": "ipython",
    "version": 3
   },
   "file_extension": ".py",
   "mimetype": "text/x-python",
   "name": "python",
   "nbconvert_exporter": "python",
   "pygments_lexer": "ipython3",
   "version": "3.9.21"
  }
 },
 "nbformat": 4,
 "nbformat_minor": 2
}
