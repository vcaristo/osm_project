{
 "cells": [
  {
   "cell_type": "markdown",
   "metadata": {},
   "source": [
    "## Can I extract the street network from OSM?\n",
    "- for example, to find the parking spaces associated with each park"
   ]
  },
  {
   "cell_type": "code",
   "execution_count": 71,
   "metadata": {},
   "outputs": [],
   "source": [
    "import osmnx as ox\n",
    "import matplotlib.pyplot as plt"
   ]
  },
  {
   "cell_type": "code",
   "execution_count": 76,
   "metadata": {},
   "outputs": [],
   "source": [
    "place_name = \"Missoula, Montana\""
   ]
  },
  {
   "cell_type": "markdown",
   "metadata": {},
   "source": [
    "Get the street network"
   ]
  },
  {
   "cell_type": "code",
   "execution_count": 77,
   "metadata": {},
   "outputs": [],
   "source": [
    "streets_graph = ox.graph_from_place(place_name, network_type='drive')"
   ]
  },
  {
   "cell_type": "code",
   "execution_count": null,
   "metadata": {},
   "outputs": [],
   "source": [
    " # Plot the streets\n",
    "fig, ax = ox.plot_graph(ox.project_graph(streets_graph))\n",
    "plt.show()"
   ]
  },
  {
   "cell_type": "markdown",
   "metadata": {},
   "source": [
    "Project the graph to an appropriate UTM (Universal Transverse Mercator) zone"
   ]
  },
  {
   "cell_type": "code",
   "execution_count": 7,
   "metadata": {},
   "outputs": [],
   "source": [
    "streets_graph_proj = ox.project_graph(streets_graph)"
   ]
  },
  {
   "cell_type": "markdown",
   "metadata": {},
   "source": [
    "Get the convex hulls or the 'blocks' that are formed by street networks"
   ]
  },
  {
   "cell_type": "code",
   "execution_count": null,
   "metadata": {},
   "outputs": [],
   "source": [
    "blocks = ox.graph_to_gdfs(streets_graph, edges=True, nodes=False)\n",
    "blocks.convex_hull.union_all()"
   ]
  },
  {
   "cell_type": "code",
   "execution_count": 65,
   "metadata": {},
   "outputs": [
    {
     "data": {
      "text/plain": [
       "geopandas.geodataframe.GeoDataFrame"
      ]
     },
     "execution_count": 65,
     "metadata": {},
     "output_type": "execute_result"
    }
   ],
   "source": [
    "type(blocks)"
   ]
  },
  {
   "cell_type": "code",
   "execution_count": null,
   "metadata": {},
   "outputs": [],
   "source": [
    "import geopandas as gpd\n",
    "import folium\n",
    "from shapely.geometry import mapping\n",
    "\n",
    "new_object = blocks.convex_hull.union_all()\n",
    "new_object"
   ]
  },
  {
   "cell_type": "code",
   "execution_count": null,
   "metadata": {},
   "outputs": [],
   "source": [
    "# Assuming new_object is your GeometryCollection from shapely\n",
    "geojson = mapping(blocks)\n",
    "\n",
    "# Create a map object centered at a suitable latitude and longitude\n",
    "m = folium.Map(location=[46.8811776, -114.0097024], zoom_start=12)\n",
    "\n",
    "# Add your GeoJSON object to the map\n",
    "folium.GeoJson(geojson).add_to(m)\n",
    "\n",
    "display(m)"
   ]
  },
  {
   "cell_type": "markdown",
   "metadata": {},
   "source": [
    "## Attemp 2: Get roadway shapes and subtract them from space"
   ]
  },
  {
   "cell_type": "code",
   "execution_count": 83,
   "metadata": {},
   "outputs": [],
   "source": [
    "mso_shapes = ox.graph_from_place(place_name, network_type='drive', retain_all=True)"
   ]
  },
  {
   "cell_type": "code",
   "execution_count": 86,
   "metadata": {},
   "outputs": [],
   "source": [
    "nodes, edges = ox.graph_to_gdfs(mso_shapes)"
   ]
  },
  {
   "cell_type": "code",
   "execution_count": 90,
   "metadata": {},
   "outputs": [
    {
     "data": {
      "text/html": [
       "<div>\n",
       "<style scoped>\n",
       "    .dataframe tbody tr th:only-of-type {\n",
       "        vertical-align: middle;\n",
       "    }\n",
       "\n",
       "    .dataframe tbody tr th {\n",
       "        vertical-align: top;\n",
       "    }\n",
       "\n",
       "    .dataframe thead th {\n",
       "        text-align: right;\n",
       "    }\n",
       "</style>\n",
       "<table border=\"1\" class=\"dataframe\">\n",
       "  <thead>\n",
       "    <tr style=\"text-align: right;\">\n",
       "      <th></th>\n",
       "      <th></th>\n",
       "      <th></th>\n",
       "      <th>osmid</th>\n",
       "      <th>highway</th>\n",
       "      <th>maxspeed</th>\n",
       "      <th>name</th>\n",
       "      <th>ref</th>\n",
       "      <th>oneway</th>\n",
       "      <th>reversed</th>\n",
       "      <th>length</th>\n",
       "      <th>geometry</th>\n",
       "      <th>lanes</th>\n",
       "      <th>bridge</th>\n",
       "      <th>tunnel</th>\n",
       "      <th>junction</th>\n",
       "      <th>access</th>\n",
       "      <th>service</th>\n",
       "      <th>area</th>\n",
       "    </tr>\n",
       "    <tr>\n",
       "      <th>u</th>\n",
       "      <th>v</th>\n",
       "      <th>key</th>\n",
       "      <th></th>\n",
       "      <th></th>\n",
       "      <th></th>\n",
       "      <th></th>\n",
       "      <th></th>\n",
       "      <th></th>\n",
       "      <th></th>\n",
       "      <th></th>\n",
       "      <th></th>\n",
       "      <th></th>\n",
       "      <th></th>\n",
       "      <th></th>\n",
       "      <th></th>\n",
       "      <th></th>\n",
       "      <th></th>\n",
       "      <th></th>\n",
       "    </tr>\n",
       "  </thead>\n",
       "  <tbody>\n",
       "    <tr>\n",
       "      <th rowspan=\"4\" valign=\"top\">30418412</th>\n",
       "      <th>265665313</th>\n",
       "      <th>0</th>\n",
       "      <td>[912239013, 29076502]</td>\n",
       "      <td>primary</td>\n",
       "      <td>30 mph</td>\n",
       "      <td>North Orange Street</td>\n",
       "      <td>US 93 Business</td>\n",
       "      <td>False</td>\n",
       "      <td>False</td>\n",
       "      <td>121.875905</td>\n",
       "      <td>LINESTRING (-113.99835 46.87339, -113.99827 46...</td>\n",
       "      <td>NaN</td>\n",
       "      <td>NaN</td>\n",
       "      <td>NaN</td>\n",
       "      <td>NaN</td>\n",
       "      <td>NaN</td>\n",
       "      <td>NaN</td>\n",
       "      <td>NaN</td>\n",
       "    </tr>\n",
       "    <tr>\n",
       "      <th>265666191</th>\n",
       "      <th>0</th>\n",
       "      <td>94243585</td>\n",
       "      <td>primary</td>\n",
       "      <td>30 mph</td>\n",
       "      <td>North Orange Street</td>\n",
       "      <td>US 93 Business</td>\n",
       "      <td>False</td>\n",
       "      <td>True</td>\n",
       "      <td>116.092734</td>\n",
       "      <td>LINESTRING (-113.99835 46.87339, -113.99841 46...</td>\n",
       "      <td>NaN</td>\n",
       "      <td>NaN</td>\n",
       "      <td>NaN</td>\n",
       "      <td>NaN</td>\n",
       "      <td>NaN</td>\n",
       "      <td>NaN</td>\n",
       "      <td>NaN</td>\n",
       "    </tr>\n",
       "    <tr>\n",
       "      <th>44790550</th>\n",
       "      <th>0</th>\n",
       "      <td>562522907</td>\n",
       "      <td>primary</td>\n",
       "      <td>NaN</td>\n",
       "      <td>West Broadway Street</td>\n",
       "      <td>I 90 Business</td>\n",
       "      <td>False</td>\n",
       "      <td>False</td>\n",
       "      <td>115.263433</td>\n",
       "      <td>LINESTRING (-113.99835 46.87339, -113.99818 46...</td>\n",
       "      <td>4</td>\n",
       "      <td>NaN</td>\n",
       "      <td>NaN</td>\n",
       "      <td>NaN</td>\n",
       "      <td>NaN</td>\n",
       "      <td>NaN</td>\n",
       "      <td>NaN</td>\n",
       "    </tr>\n",
       "    <tr>\n",
       "      <th>44790555</th>\n",
       "      <th>0</th>\n",
       "      <td>901763543</td>\n",
       "      <td>primary</td>\n",
       "      <td>NaN</td>\n",
       "      <td>West Broadway Street</td>\n",
       "      <td>I 90 Business</td>\n",
       "      <td>False</td>\n",
       "      <td>True</td>\n",
       "      <td>131.137120</td>\n",
       "      <td>LINESTRING (-113.99835 46.87339, -113.99853 46...</td>\n",
       "      <td>4</td>\n",
       "      <td>NaN</td>\n",
       "      <td>NaN</td>\n",
       "      <td>NaN</td>\n",
       "      <td>NaN</td>\n",
       "      <td>NaN</td>\n",
       "      <td>NaN</td>\n",
       "    </tr>\n",
       "    <tr>\n",
       "      <th>44557135</th>\n",
       "      <th>44856160</th>\n",
       "      <th>0</th>\n",
       "      <td>5772557</td>\n",
       "      <td>residential</td>\n",
       "      <td>NaN</td>\n",
       "      <td>Station Drive</td>\n",
       "      <td>NaN</td>\n",
       "      <td>False</td>\n",
       "      <td>False</td>\n",
       "      <td>133.759571</td>\n",
       "      <td>LINESTRING (-113.99764 46.86696, -113.99764 46...</td>\n",
       "      <td>NaN</td>\n",
       "      <td>NaN</td>\n",
       "      <td>NaN</td>\n",
       "      <td>NaN</td>\n",
       "      <td>NaN</td>\n",
       "      <td>NaN</td>\n",
       "      <td>NaN</td>\n",
       "    </tr>\n",
       "  </tbody>\n",
       "</table>\n",
       "</div>"
      ],
      "text/plain": [
       "                                        osmid      highway maxspeed  \\\n",
       "u        v         key                                                \n",
       "30418412 265665313 0    [912239013, 29076502]      primary   30 mph   \n",
       "         265666191 0                 94243585      primary   30 mph   \n",
       "         44790550  0                562522907      primary      NaN   \n",
       "         44790555  0                901763543      primary      NaN   \n",
       "44557135 44856160  0                  5772557  residential      NaN   \n",
       "\n",
       "                                        name             ref  oneway reversed  \\\n",
       "u        v         key                                                          \n",
       "30418412 265665313 0     North Orange Street  US 93 Business   False    False   \n",
       "         265666191 0     North Orange Street  US 93 Business   False     True   \n",
       "         44790550  0    West Broadway Street   I 90 Business   False    False   \n",
       "         44790555  0    West Broadway Street   I 90 Business   False     True   \n",
       "44557135 44856160  0           Station Drive             NaN   False    False   \n",
       "\n",
       "                            length  \\\n",
       "u        v         key               \n",
       "30418412 265665313 0    121.875905   \n",
       "         265666191 0    116.092734   \n",
       "         44790550  0    115.263433   \n",
       "         44790555  0    131.137120   \n",
       "44557135 44856160  0    133.759571   \n",
       "\n",
       "                                                                 geometry  \\\n",
       "u        v         key                                                      \n",
       "30418412 265665313 0    LINESTRING (-113.99835 46.87339, -113.99827 46...   \n",
       "         265666191 0    LINESTRING (-113.99835 46.87339, -113.99841 46...   \n",
       "         44790550  0    LINESTRING (-113.99835 46.87339, -113.99818 46...   \n",
       "         44790555  0    LINESTRING (-113.99835 46.87339, -113.99853 46...   \n",
       "44557135 44856160  0    LINESTRING (-113.99764 46.86696, -113.99764 46...   \n",
       "\n",
       "                       lanes bridge tunnel junction access service area  \n",
       "u        v         key                                                   \n",
       "30418412 265665313 0     NaN    NaN    NaN      NaN    NaN     NaN  NaN  \n",
       "         265666191 0     NaN    NaN    NaN      NaN    NaN     NaN  NaN  \n",
       "         44790550  0       4    NaN    NaN      NaN    NaN     NaN  NaN  \n",
       "         44790555  0       4    NaN    NaN      NaN    NaN     NaN  NaN  \n",
       "44557135 44856160  0     NaN    NaN    NaN      NaN    NaN     NaN  NaN  "
      ]
     },
     "execution_count": 90,
     "metadata": {},
     "output_type": "execute_result"
    }
   ],
   "source": [
    "edges.head()"
   ]
  },
  {
   "cell_type": "code",
   "execution_count": null,
   "metadata": {},
   "outputs": [],
   "source": [
    "import osmnx as ox\n",
    "import matplotlib.pyplot as plt\n",
    "\n",
    "def visualize_road_widths(city_name):\n",
    "    place_name = f\"{city_name}, Montana, USA\"\n",
    "    graph = ox.graph_from_place(place_name, network_type='drive')\n",
    "    #fig, ax = ox.plot_graph(graph, node_size=0, edge_linewidth=0.5,\n",
    "                           # edge_color='#999999', show=False, close=False)\n",
    "    nodes, edges = ox.graph_to_gdfs(graph)\n",
    "\n",
    "    # Edge colors by highway type (simulating width visually)\n",
    "    for highway_type in ['motorway', 'primary', 'secondary', 'tertiary', 'residential']:\n",
    "        ec = ['#FF0000', '#FF7F00', '#FFFF00', '#0000FF', '#00FF00'][0:len(highway_type)]\n",
    "        ew = [5, 4, 3, 2, 1][0:len(highway_type)]  # Simulated widths\n",
    "        subgraph = ox.get_edges_by_attribute(graph, 'highway', highway_type)\n",
    "        ox.plot_graph(subgraph, ax=ax, edge_color=ec, edge_linewidth=ew)\n",
    "    plt.show()\n",
    "\n",
    "visualize_road_widths('Missoula')"
   ]
  },
  {
   "cell_type": "markdown",
   "metadata": {},
   "source": [
    "New Feature"
   ]
  },
  {
   "cell_type": "code",
   "execution_count": null,
   "metadata": {},
   "outputs": [],
   "source": [
    "print(\"new feature\")"
   ]
  },
  {
   "cell_type": "markdown",
   "metadata": {},
   "source": []
  }
 ],
 "metadata": {
  "kernelspec": {
   "display_name": "ox",
   "language": "python",
   "name": "python3"
  },
  "language_info": {
   "codemirror_mode": {
    "name": "ipython",
    "version": 3
   },
   "file_extension": ".py",
   "mimetype": "text/x-python",
   "name": "python",
   "nbconvert_exporter": "python",
   "pygments_lexer": "ipython3",
   "version": "3.9.21"
  }
 },
 "nbformat": 4,
 "nbformat_minor": 2
}
