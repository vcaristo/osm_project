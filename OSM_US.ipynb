{
 "cells": [
  {
   "cell_type": "code",
   "execution_count": null,
   "metadata": {},
   "outputs": [],
   "source": [
    "import osmnx as ox\n",
    "import pandas as pd\n",
    "import time\n",
    "import requests\n",
    "import os\n",
    "from pathlib import Path\n",
    "import geopandas as gpd\n",
    "from fiona import listlayers\n",
    "from datetime import datetime"
   ]
  },
  {
   "cell_type": "markdown",
   "metadata": {},
   "source": [
    "### Try \"Los Angeles County, California\"\n",
    "- attempt at \"California, USA\" did not make any progress in 2+ hours, and said \"attempt exceeded geographic limit by 222 times\""
   ]
  },
  {
   "cell_type": "code",
   "execution_count": 18,
   "metadata": {},
   "outputs": [
    {
     "name": "stdout",
     "output_type": "stream",
     "text": [
      "Execution time: -155.4614 seconds\n"
     ]
    }
   ],
   "source": [
    "start = time.time()\n",
    "\n",
    "place = \"Los Angeles County, California\"\n",
    "tags = {\"leisure\":[\"pitch\", \"park\", \"sports_centre\"], \n",
    "        'building':'school', \n",
    "        'amenity':'school'}\n",
    "features_gdf = ox.features.features_from_place(place, tags)\n",
    "\n",
    "end = time.time()\n",
    "\n",
    "print(f\"Execution time: {start - end:0.4f} seconds\")"
   ]
  },
  {
   "cell_type": "markdown",
   "metadata": {},
   "source": [
    " # 1. Get list of all US Counties \n",
    " \n",
    "The attempt to download data for a very large county - Los Angeles - was successful.\n",
    " \n",
    "Now, i will attempt to obtain a list of all US Counties...\n",
    "\n",
    "I should be able to get this data from the US Census API Geography Endpoint: https://www.census.gov/data/developers/data-sets/geo-info.html"
   ]
  },
  {
   "cell_type": "code",
   "execution_count": 19,
   "metadata": {},
   "outputs": [],
   "source": [
    "census_api_key = \" 349179f9505abb551eb4de4ab998d2a0f58d06aa\""
   ]
  },
  {
   "cell_type": "code",
   "execution_count": null,
   "metadata": {},
   "outputs": [
    {
     "name": "stdout",
     "output_type": "stream",
     "text": [
      "Success\n"
     ]
    }
   ],
   "source": [
    "url = 'https://api.census.gov/data/2023/geoinfo'\n",
    "\n",
    "# needed! \n",
    "headers = {'User-Agent': 'Mozilla/5.0'}\n",
    "\n",
    "params = {'get':'NAME', \n",
    "                        'for': 'county:*',\n",
    "                      }\n",
    "\n",
    "response = requests.get(url, headers=headers, params=params, timeout=10)\n",
    "\n",
    "if response.status_code == 200:\n",
    "    data = response.json()\n",
    "    print(\"Success\")\n",
    "else:\n",
    "    print(response.status_code)"
   ]
  },
  {
   "cell_type": "markdown",
   "metadata": {},
   "source": [
    "The data is in list form"
   ]
  },
  {
   "cell_type": "code",
   "execution_count": 41,
   "metadata": {},
   "outputs": [
    {
     "data": {
      "text/plain": [
       "[['NAME', 'state', 'county'],\n",
       " ['Autauga County, Alabama', '01', '001'],\n",
       " ['Baldwin County, Alabama', '01', '003'],\n",
       " ['Barbour County, Alabama', '01', '005']]"
      ]
     },
     "execution_count": 41,
     "metadata": {},
     "output_type": "execute_result"
    }
   ],
   "source": [
    "data[:4]"
   ]
  },
  {
   "cell_type": "markdown",
   "metadata": {},
   "source": [
    "I can easily convert this to a Pandas dataframe"
   ]
  },
  {
   "cell_type": "code",
   "execution_count": 50,
   "metadata": {},
   "outputs": [
    {
     "data": {
      "application/vnd.microsoft.datawrangler.viewer.v0+json": {
       "columns": [
        {
         "name": "index",
         "rawType": "int64",
         "type": "integer"
        },
        {
         "name": "name_full",
         "rawType": "object",
         "type": "string"
        },
        {
         "name": "state",
         "rawType": "object",
         "type": "string"
        }
       ],
       "conversionMethod": "pd.DataFrame",
       "ref": "e3298500-42c5-49e6-b68a-9217b6be8605",
       "rows": [
        [
         "0",
         "Autauga County, Alabama",
         "Alabama"
        ],
        [
         "1",
         "Baldwin County, Alabama",
         "Alabama"
        ],
        [
         "2",
         "Barbour County, Alabama",
         "Alabama"
        ],
        [
         "3",
         "Bibb County, Alabama",
         "Alabama"
        ],
        [
         "4",
         "Blount County, Alabama",
         "Alabama"
        ]
       ],
       "shape": {
        "columns": 2,
        "rows": 5
       }
      },
      "text/html": [
       "<div>\n",
       "<style scoped>\n",
       "    .dataframe tbody tr th:only-of-type {\n",
       "        vertical-align: middle;\n",
       "    }\n",
       "\n",
       "    .dataframe tbody tr th {\n",
       "        vertical-align: top;\n",
       "    }\n",
       "\n",
       "    .dataframe thead th {\n",
       "        text-align: right;\n",
       "    }\n",
       "</style>\n",
       "<table border=\"1\" class=\"dataframe\">\n",
       "  <thead>\n",
       "    <tr style=\"text-align: right;\">\n",
       "      <th></th>\n",
       "      <th>name_full</th>\n",
       "      <th>state</th>\n",
       "    </tr>\n",
       "  </thead>\n",
       "  <tbody>\n",
       "    <tr>\n",
       "      <th>0</th>\n",
       "      <td>Autauga County, Alabama</td>\n",
       "      <td>Alabama</td>\n",
       "    </tr>\n",
       "    <tr>\n",
       "      <th>1</th>\n",
       "      <td>Baldwin County, Alabama</td>\n",
       "      <td>Alabama</td>\n",
       "    </tr>\n",
       "    <tr>\n",
       "      <th>2</th>\n",
       "      <td>Barbour County, Alabama</td>\n",
       "      <td>Alabama</td>\n",
       "    </tr>\n",
       "    <tr>\n",
       "      <th>3</th>\n",
       "      <td>Bibb County, Alabama</td>\n",
       "      <td>Alabama</td>\n",
       "    </tr>\n",
       "    <tr>\n",
       "      <th>4</th>\n",
       "      <td>Blount County, Alabama</td>\n",
       "      <td>Alabama</td>\n",
       "    </tr>\n",
       "  </tbody>\n",
       "</table>\n",
       "</div>"
      ],
      "text/plain": [
       "                 name_full    state\n",
       "0  Autauga County, Alabama  Alabama\n",
       "1  Baldwin County, Alabama  Alabama\n",
       "2  Barbour County, Alabama  Alabama\n",
       "3     Bibb County, Alabama  Alabama\n",
       "4   Blount County, Alabama  Alabama"
      ]
     },
     "execution_count": 50,
     "metadata": {},
     "output_type": "execute_result"
    }
   ],
   "source": [
    "# extract county names\n",
    "counties_list = [item[0] for item in data][1:]\n",
    "\n",
    "counties_df = pd.DataFrame(counties_list, columns=['name_full'])\n",
    "\n",
    "# add State column \n",
    "counties_df['state'] = counties_df.apply(lambda x: x['name_full'].split(\",\")[1].strip(), axis=1)\n",
    "\n",
    "counties_df.head()"
   ]
  },
  {
   "cell_type": "markdown",
   "metadata": {},
   "source": [
    "### Save the County names to file"
   ]
  },
  {
   "cell_type": "code",
   "execution_count": 55,
   "metadata": {},
   "outputs": [],
   "source": [
    "counties_df.to_csv('us_counties.csv', index = False)"
   ]
  },
  {
   "cell_type": "markdown",
   "metadata": {},
   "source": [
    "# 2. Download all US Counies"
   ]
  },
  {
   "cell_type": "code",
   "execution_count": 10,
   "metadata": {},
   "outputs": [],
   "source": [
    "counties_df = pd.read_csv('us_counties.csv')\n",
    "\n",
    "# df for results\n",
    "results_df = pd.DataFrame(columns = ['state', 'name_full', 'name_abbrev', 'downloaded', 'file_path', 'size', 'date'])\n"
   ]
  },
  {
   "cell_type": "code",
   "execution_count": 11,
   "metadata": {},
   "outputs": [
    {
     "data": {
      "application/vnd.microsoft.datawrangler.viewer.v0+json": {
       "columns": [
        {
         "name": "index",
         "rawType": "int64",
         "type": "integer"
        },
        {
         "name": "name_full",
         "rawType": "object",
         "type": "string"
        },
        {
         "name": "state",
         "rawType": "object",
         "type": "string"
        }
       ],
       "conversionMethod": "pd.DataFrame",
       "ref": "51f89b32-c6b3-4d07-8404-4c249d639f27",
       "rows": [
        [
         "0",
         "Autauga County, Alabama",
         "Alabama"
        ],
        [
         "1",
         "Baldwin County, Alabama",
         "Alabama"
        ],
        [
         "2",
         "Barbour County, Alabama",
         "Alabama"
        ],
        [
         "3",
         "Bibb County, Alabama",
         "Alabama"
        ],
        [
         "4",
         "Blount County, Alabama",
         "Alabama"
        ]
       ],
       "shape": {
        "columns": 2,
        "rows": 5
       }
      },
      "text/html": [
       "<div>\n",
       "<style scoped>\n",
       "    .dataframe tbody tr th:only-of-type {\n",
       "        vertical-align: middle;\n",
       "    }\n",
       "\n",
       "    .dataframe tbody tr th {\n",
       "        vertical-align: top;\n",
       "    }\n",
       "\n",
       "    .dataframe thead th {\n",
       "        text-align: right;\n",
       "    }\n",
       "</style>\n",
       "<table border=\"1\" class=\"dataframe\">\n",
       "  <thead>\n",
       "    <tr style=\"text-align: right;\">\n",
       "      <th></th>\n",
       "      <th>name_full</th>\n",
       "      <th>state</th>\n",
       "    </tr>\n",
       "  </thead>\n",
       "  <tbody>\n",
       "    <tr>\n",
       "      <th>0</th>\n",
       "      <td>Autauga County, Alabama</td>\n",
       "      <td>Alabama</td>\n",
       "    </tr>\n",
       "    <tr>\n",
       "      <th>1</th>\n",
       "      <td>Baldwin County, Alabama</td>\n",
       "      <td>Alabama</td>\n",
       "    </tr>\n",
       "    <tr>\n",
       "      <th>2</th>\n",
       "      <td>Barbour County, Alabama</td>\n",
       "      <td>Alabama</td>\n",
       "    </tr>\n",
       "    <tr>\n",
       "      <th>3</th>\n",
       "      <td>Bibb County, Alabama</td>\n",
       "      <td>Alabama</td>\n",
       "    </tr>\n",
       "    <tr>\n",
       "      <th>4</th>\n",
       "      <td>Blount County, Alabama</td>\n",
       "      <td>Alabama</td>\n",
       "    </tr>\n",
       "  </tbody>\n",
       "</table>\n",
       "</div>"
      ],
      "text/plain": [
       "                 name_full    state\n",
       "0  Autauga County, Alabama  Alabama\n",
       "1  Baldwin County, Alabama  Alabama\n",
       "2  Barbour County, Alabama  Alabama\n",
       "3     Bibb County, Alabama  Alabama\n",
       "4   Blount County, Alabama  Alabama"
      ]
     },
     "execution_count": 11,
     "metadata": {},
     "output_type": "execute_result"
    }
   ],
   "source": [
    "counties_df.head()"
   ]
  },
  {
   "cell_type": "code",
   "execution_count": 7,
   "metadata": {},
   "outputs": [],
   "source": [
    "def get_abbrev_name(county_row):\n",
    "    county = county_row['name_full'].split(\",\")[0]\n",
    "\n",
    "    # remove 'County' suffix\n",
    "    suffix_loc = county.find(\"County\")\n",
    "\n",
    "    if suffix_loc != -1:\n",
    "        county = county[:suffix_loc].strip()\n",
    "    \n",
    "    return county"
   ]
  },
  {
   "cell_type": "code",
   "execution_count": null,
   "metadata": {},
   "outputs": [
    {
     "name": "stdout",
     "output_type": "stream",
     "text": [
      "Success: Autauga County, Alabama\n",
      "Success: Baldwin County, Alabama\n",
      "Success: Barbour County, Alabama\n"
     ]
    }
   ],
   "source": [
    "tags = {\"leisure\":[\"pitch\", \"park\", \"sports_centre\"], \n",
    "        'building':'school', \n",
    "        'amenity':'school'}\n",
    "\n",
    "states = counties_df['state'].unique()\n",
    "\n",
    "download_folder = Path(\"data\")\n",
    "\n",
    "for state in states[:1]:\n",
    "    # create state folder\n",
    "    state_path = download_folder / state\n",
    "    os.makedirs(state_path, exist_ok=True)\n",
    "\n",
    "    for _, county_row in counties_df[counties_df['state'] == state][:3].iterrows():\n",
    "\n",
    "        county_full = county_row['name_full']\n",
    "        county_abbrev = get_abbrev_name(county_row).replace(\".\",\"\").replace(\" \", \"_\")\n",
    "        file_path = state_path / f\"{county_abbrev}.gpkg\"\n",
    "\n",
    "        try:\n",
    "            # call to OSMnX \n",
    "            features_gdf = ox.features.features_from_place(county_full, tags)\n",
    "\n",
    "            # separate features\n",
    "            parks = features_gdf[features_gdf['leisure'] == 'park']\n",
    "            pitches = features_gdf[features_gdf['leisure'] == 'pitch']\n",
    "            sports_centres = features_gdf[features_gdf['leisure'] == 'sports_centre']\n",
    "            schools = features_gdf[features_gdf.apply(lambda x: True if \"school\" in [str(x['amenity']).lower(), str(x['building']).lower(), str(x['name']).lower()] else False, axis=1)] \n",
    "\n",
    "            # write geopackage to disk\n",
    "            for gdf_obj, layer_name in [(parks, \"parks\"), (pitches, \"pitches\"), \n",
    "                            (sports_centres, \"sports_centres\"), (schools, \"schools\")]:\n",
    "\n",
    "                # drop FID column (it's sepcial if GeoPackages, and not needed)\n",
    "                if 'FID' in gdf_obj.columns:\n",
    "                    gdf_obj = gdf_obj.drop(columns=['FID'])\n",
    "\n",
    "                # save as layer in a GeoPackage\n",
    "                gdf_obj.to_file(file_path, layer=layer_name, driver=\"GPKG\")\n",
    "\n",
    "            # get file size (decimal, not binary)\n",
    "            size_kb = file_path.stat().st_size / 1000\n",
    "            size_text = f\"{size_kb} KB\" if size_kb < 1000 else f\"{size_kb / 1000:0.1f} MB\"\n",
    "\n",
    "            downloaded = 'Success'\n",
    "\n",
    "            print(f\"Success: {county_full}\")\n",
    "\n",
    "        except:\n",
    "            downloaded = 'Fail'\n",
    "            file_path = size_text = ''\n",
    "\n",
    "            print(f\"Fail: {county_full}\")\n",
    "        finally:\n",
    "            date = datetime.today().strftime('%Y-%m-%d')\n",
    "            \n",
    "            # save results \n",
    "            results_data = {'state':state, 'name_full':county_full, 'name_abbrev':county_abbrev,\n",
    "                             'downloaded':downloaded, 'file_path':file_path, 'size':size_text, 'date':date}\n",
    "            \n",
    "            results_df.loc[len(results_df)] = results_data\n",
    "\n",
    "# write the results file\n",
    "todays_date = datetime.strftime(datetime.now(), '%Y-%m-%d')\n",
    "\n",
    "results_df.to_csv(f\"results_{todays_date}.csv\", index=False)"
   ]
  }
 ],
 "metadata": {
  "kernelspec": {
   "display_name": "ox",
   "language": "python",
   "name": "python3"
  },
  "language_info": {
   "codemirror_mode": {
    "name": "ipython",
    "version": 3
   },
   "file_extension": ".py",
   "mimetype": "text/x-python",
   "name": "python",
   "nbconvert_exporter": "python",
   "pygments_lexer": "ipython3",
   "version": "3.9.21"
  }
 },
 "nbformat": 4,
 "nbformat_minor": 2
}
